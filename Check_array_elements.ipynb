{
  "nbformat": 4,
  "nbformat_minor": 0,
  "metadata": {
    "colab": {
      "provenance": [],
      "include_colab_link": true
    },
    "kernelspec": {
      "name": "python3",
      "display_name": "Python 3"
    },
    "language_info": {
      "name": "python"
    }
  },
  "cells": [
    {
      "cell_type": "markdown",
      "metadata": {
        "id": "view-in-github",
        "colab_type": "text"
      },
      "source": [
        "<a href=\"https://colab.research.google.com/github/MIKRAMS1984/Creating-ML-model-using-Linear-Regression/blob/main/Check_array_elements.ipynb\" target=\"_parent\"><img src=\"https://colab.research.google.com/assets/colab-badge.svg\" alt=\"Open In Colab\"/></a>"
      ]
    },
    {
      "cell_type": "code",
      "execution_count": null,
      "metadata": {
        "colab": {
          "base_uri": "https://localhost:8080/"
        },
        "id": "sOqezq07NXLz",
        "outputId": "73818e24-57ae-4c21-aa8f-14758c337836"
      },
      "outputs": [
        {
          "output_type": "execute_result",
          "data": {
            "text/plain": [
              "(array([[ 37,  25, -71,  79,  60, -80,  39,   3,  95, -92,   4, -59]]),\n",
              " dtype('int64'),\n",
              " (1, 12),\n",
              " 100)"
            ]
          },
          "metadata": {},
          "execution_count": 1
        }
      ],
      "source": [
        "import numpy as np\n",
        "import math\n",
        "W=100\n",
        "weights = np.random.randint(-100,100,(1,12))\n",
        "#weights=np.arange(0.0, 10, 0.5)\n",
        "weights, weights.dtype, weights.shape, W\n",
        "#weights, weights.shape, weights.dtype"
      ]
    },
    {
      "cell_type": "code",
      "source": [
        "from sys import exit\n",
        "\n",
        "is_all_positive_integers = np.all((weights > 0))\n",
        "if is_all_positive_integers:\n",
        "    print('Weights Array contains only positive integers.')\n",
        "else:\n",
        "  print(\"Enter positive values for weights.\")\n",
        "exit\n",
        "print(\"ikram\")"
      ],
      "metadata": {
        "colab": {
          "base_uri": "https://localhost:8080/"
        },
        "id": "o7IJMzEldbY0",
        "outputId": "01d3a863-e995-4643-b62f-f809d2c78a44"
      },
      "execution_count": null,
      "outputs": [
        {
          "output_type": "stream",
          "name": "stdout",
          "text": [
            "Enter positive values for weights.\n",
            "ikram\n"
          ]
        }
      ]
    },
    {
      "cell_type": "code",
      "source": [
        "W = 3\n",
        "assert(W > 0)"
      ],
      "metadata": {
        "id": "wyEX_dsFeWON"
      },
      "execution_count": null,
      "outputs": []
    },
    {
      "cell_type": "code",
      "source": [
        "weights, W = np.floor(weights), np.floor(W)\n",
        "weights, W"
      ],
      "metadata": {
        "colab": {
          "base_uri": "https://localhost:8080/"
        },
        "id": "0YeSVPwoYP3K",
        "outputId": "81fd579a-fb8a-4eb1-ade7-b8485ec6c734"
      },
      "execution_count": null,
      "outputs": [
        {
          "output_type": "execute_result",
          "data": {
            "text/plain": [
              "(array([[ 37.,  25., -71.,  79.,  60., -80.,  39.,   3.,  95., -92.,   4.,\n",
              "         -59.]]), 3.0)"
            ]
          },
          "metadata": {},
          "execution_count": 6
        }
      ]
    },
    {
      "cell_type": "code",
      "source": [
        "b = np.floor(a)\n",
        "b"
      ],
      "metadata": {
        "id": "mcNuQW3CXwlk"
      },
      "execution_count": null,
      "outputs": []
    },
    {
      "cell_type": "code",
      "source": [
        "#import math.floor\n",
        "#if (weights < 0) or (W < 0):\n",
        "np.logical_or(weights < 0, W < 0)\n",
        "print(\"enter positive numbers.\")\n",
        "W = math.floor(W)\n",
        "def myfun():\n",
        "  np.logical_or(weights < 0, W < 0)\n",
        "  return math.floor(W)\n",
        "#f2 = np.vectorize(weights)\n",
        "weights = np.vectorize(myfun)\n",
        "#weights = math.floor(f2)\n",
        "  "
      ],
      "metadata": {
        "id": "TCe89k-wOKHE"
      },
      "execution_count": null,
      "outputs": []
    },
    {
      "cell_type": "code",
      "source": [
        "arr = np.array([4, 1, 2, 3, 4, 5])\n",
        "arr"
      ],
      "metadata": {
        "colab": {
          "base_uri": "https://localhost:8080/"
        },
        "id": "qDHACOXLaU_c",
        "outputId": "eb9830f8-6bc4-4cad-d7b6-917becfcc74b"
      },
      "execution_count": null,
      "outputs": [
        {
          "output_type": "execute_result",
          "data": {
            "text/plain": [
              "array([4, 1, 2, 3, 4, 5])"
            ]
          },
          "metadata": {},
          "execution_count": 39
        }
      ]
    },
    {
      "cell_type": "code",
      "source": [
        "is_all_positive_integers = np.all((arr > 0))\n",
        "if is_all_positive_integers:\n",
        "    print('Weights Array contains only positive integers.')\n",
        "else:\n",
        "    print('Array has non-positive_integers too')"
      ],
      "metadata": {
        "colab": {
          "base_uri": "https://localhost:8080/"
        },
        "id": "mEvGrnNVam7f",
        "outputId": "2433d1ba-d388-4833-bde8-9cd460677009"
      },
      "execution_count": null,
      "outputs": [
        {
          "output_type": "stream",
          "name": "stdout",
          "text": [
            "Array has non-positive_integers too\n"
          ]
        }
      ]
    },
    {
      "cell_type": "code",
      "source": [
        "a=np.arange(0.0, 10, 0.5)\n",
        "a, a.dtype, a.shape\n"
      ],
      "metadata": {
        "colab": {
          "base_uri": "https://localhost:8080/"
        },
        "id": "RIKOTH_YXTot",
        "outputId": "ee4cf221-4ada-48e4-9aaf-4114e261e492"
      },
      "execution_count": null,
      "outputs": [
        {
          "output_type": "execute_result",
          "data": {
            "text/plain": [
              "(array([0. , 0.5, 1. , 1.5, 2. , 2.5, 3. , 3.5, 4. , 4.5, 5. , 5.5, 6. ,\n",
              "        6.5, 7. , 7.5, 8. , 8.5, 9. , 9.5]), dtype('float64'), (20,))"
            ]
          },
          "metadata": {},
          "execution_count": 26
        }
      ]
    }
  ]
}