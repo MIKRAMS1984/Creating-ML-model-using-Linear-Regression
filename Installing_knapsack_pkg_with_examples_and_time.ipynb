{
  "nbformat": 4,
  "nbformat_minor": 0,
  "metadata": {
    "colab": {
      "provenance": [],
      "authorship_tag": "ABX9TyMuvLiPpws3jXfxCqp979nV",
      "include_colab_link": true
    },
    "kernelspec": {
      "name": "python3",
      "display_name": "Python 3"
    },
    "language_info": {
      "name": "python"
    }
  },
  "cells": [
    {
      "cell_type": "markdown",
      "metadata": {
        "id": "view-in-github",
        "colab_type": "text"
      },
      "source": [
        "<a href=\"https://colab.research.google.com/github/MIKRAMS1984/Creating-ML-model-using-Linear-Regression/blob/main/Installing_knapsack_pkg_with_examples_and_time.ipynb\" target=\"_parent\"><img src=\"https://colab.research.google.com/assets/colab-badge.svg\" alt=\"Open In Colab\"/></a>"
      ]
    },
    {
      "cell_type": "code",
      "execution_count": 1,
      "metadata": {
        "colab": {
          "base_uri": "https://localhost:8080/",
          "height": 304
        },
        "id": "2d9Gms7_wjmF",
        "outputId": "0b5db16b-e301-439c-a007-eceee34de01a"
      },
      "outputs": [
        {
          "output_type": "error",
          "ename": "ModuleNotFoundError",
          "evalue": "ignored",
          "traceback": [
            "\u001b[0;31m---------------------------------------------------------------------------\u001b[0m",
            "\u001b[0;31mModuleNotFoundError\u001b[0m                       Traceback (most recent call last)",
            "\u001b[0;32m<ipython-input-1-4d81ddd4322f>\u001b[0m in \u001b[0;36m<module>\u001b[0;34m\u001b[0m\n\u001b[0;32m----> 1\u001b[0;31m \u001b[0;32mimport\u001b[0m \u001b[0mknapsack\u001b[0m\u001b[0;34m\u001b[0m\u001b[0;34m\u001b[0m\u001b[0m\n\u001b[0m",
            "\u001b[0;31mModuleNotFoundError\u001b[0m: No module named 'knapsack'",
            "",
            "\u001b[0;31m---------------------------------------------------------------------------\u001b[0;32m\nNOTE: If your import is failing due to a missing package, you can\nmanually install dependencies using either !pip or !apt.\n\nTo view examples of installing some common dependencies, click the\n\"Open Examples\" button below.\n\u001b[0;31m---------------------------------------------------------------------------\u001b[0m\n"
          ],
          "errorDetails": {
            "actions": [
              {
                "action": "open_url",
                "actionText": "Open Examples",
                "url": "/notebooks/snippets/importing_libraries.ipynb"
              }
            ]
          }
        }
      ],
      "source": [
        "import knapsack"
      ]
    },
    {
      "cell_type": "markdown",
      "source": [
        "# If no knapsack module found, then install it as follows:"
      ],
      "metadata": {
        "id": "pkr46aGvwpWx"
      }
    },
    {
      "cell_type": "code",
      "source": [
        "!pip install knapsack"
      ],
      "metadata": {
        "colab": {
          "base_uri": "https://localhost:8080/"
        },
        "id": "bWuPLW11xPLB",
        "outputId": "80bc7106-27f9-4397-e94d-c7290f298633"
      },
      "execution_count": 2,
      "outputs": [
        {
          "output_type": "stream",
          "name": "stdout",
          "text": [
            "Looking in indexes: https://pypi.org/simple, https://us-python.pkg.dev/colab-wheels/public/simple/\n",
            "Collecting knapsack\n",
            "  Downloading knapsack-0.0.7-py3-none-any.whl (2.8 kB)\n",
            "Installing collected packages: knapsack\n",
            "Successfully installed knapsack-0.0.7\n"
          ]
        }
      ]
    },
    {
      "cell_type": "code",
      "source": [
        "# Check knapsack version\n",
        "import knapsack\n",
        "print(knapsack.__version__)"
      ],
      "metadata": {
        "colab": {
          "base_uri": "https://localhost:8080/"
        },
        "id": "23BjvOOUxsOG",
        "outputId": "4a4ce50a-501d-416d-db57-bb9e0636d6f7"
      },
      "execution_count": 4,
      "outputs": [
        {
          "output_type": "stream",
          "name": "stdout",
          "text": [
            "0.0.6\n"
          ]
        }
      ]
    },
    {
      "cell_type": "markdown",
      "source": [
        "# Example of knapsack and visualizing the results with time."
      ],
      "metadata": {
        "id": "c4TQVLkX6MFV"
      }
    },
    {
      "cell_type": "code",
      "source": [
        "import time\n",
        "start_time = time.time()\n",
        "size = [21, 11, 15, 9, 34, 25, 41, 52]\n",
        "weight = [22, 12, 16, 10, 35, 26, 42, 53]\n",
        "capacity = 100\n",
        "picked_items = []\n",
        "#knapsack.knapsack(size, weight).solve(capacity)\n",
        "Total_weight, Index_Items_picked = knapsack.knapsack(size, weight).solve(capacity)\n",
        "print(f\"Items size list: {size}\")\n",
        "print(f\"Size constraint for the knapsack: {capacity}\")\n",
        "print(f\"The index number of the picked items: {Index_Items_picked}\")\n",
        "print(f\"Total weight of the items picked for knapsack: {Total_weight}\")\n",
        "#for Items_picked, item in enumerate(size):\n",
        "for i in Index_Items_picked:\n",
        "  picked_items.append(size[i])\n",
        "print(f\"Following items are picked for the kanpasack: {picked_items} from the Items size list: {size}\")\n",
        "total_time = time.time() - start_time\n",
        "print(f\"The time required to solve the problem: {total_time}\")"
      ],
      "metadata": {
        "colab": {
          "base_uri": "https://localhost:8080/"
        },
        "id": "p_2_cAjEydzI",
        "outputId": "aa1fd963-2d2d-42a3-d569-e4e1d3df0381"
      },
      "execution_count": 23,
      "outputs": [
        {
          "output_type": "stream",
          "name": "stdout",
          "text": [
            "Items size list: [21, 11, 15, 9, 34, 25, 41, 52]\n",
            "Size constraint for the knapsack: 100\n",
            "The index number of the picked items: [0, 1, 3, 4, 5]\n",
            "Total weight of the items picked for knapsack: 105\n",
            "Following items are picked for the kanpasack: [21, 11, 9, 34, 25] from the Items size list: [21, 11, 15, 9, 34, 25, 41, 52]\n",
            "The time required to solve the problem: 0.0015063285827636719\n"
          ]
        }
      ]
    }
  ]
}