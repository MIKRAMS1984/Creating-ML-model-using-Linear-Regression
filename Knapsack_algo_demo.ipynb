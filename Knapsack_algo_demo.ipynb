{
  "nbformat": 4,
  "nbformat_minor": 0,
  "metadata": {
    "colab": {
      "provenance": [],
      "authorship_tag": "ABX9TyMg8KgGg2zU0OMc/RlLkBgn",
      "include_colab_link": true
    },
    "kernelspec": {
      "name": "python3",
      "display_name": "Python 3"
    },
    "language_info": {
      "name": "python"
    }
  },
  "cells": [
    {
      "cell_type": "markdown",
      "metadata": {
        "id": "view-in-github",
        "colab_type": "text"
      },
      "source": [
        "<a href=\"https://colab.research.google.com/github/MIKRAMS1984/Creating-ML-model-using-Linear-Regression/blob/main/Knapsack_algo_demo.ipynb\" target=\"_parent\"><img src=\"https://colab.research.google.com/assets/colab-badge.svg\" alt=\"Open In Colab\"/></a>"
      ]
    },
    {
      "cell_type": "markdown",
      "source": [
        "KNAPSACK Function."
      ],
      "metadata": {
        "id": "ujlwRVlt6v5P"
      }
    },
    {
      "cell_type": "code",
      "source": [
        "def knapsack(weights, values, W):\n",
        "    if not (is_positive_integer(weights)) or not (is_positive_integer(W)):\n",
        "      return (\"Error: Weights must be positive integer\")\n",
        "\n",
        "# We work in one dimension\n",
        "#from Knapsack_algo_demo import weights\n",
        "[M, N] = weights.shape\n",
        "\n",
        "# Taking Transpose of weights\n",
        "weights = np.array([weights]).T.tolist()\n",
        "weights\n",
        "\n",
        "# Taking Transpose of values\n",
        "values = np.array([values]).T.tolist()\n",
        "values\n",
        "\n",
        "if len(weights) != len(values):\n",
        "  print(\"The size of weights must match the size of values.\")\n",
        "\n",
        "if len(W)  > 1:\n",
        "  print(\"Only one constraint is allowed.\")\n",
        "\n",
        "print(f\"Number of objects:{N}\")\n",
        "print(f\"Weights for objects:{weights}\")\n",
        "print(f\"Values(Profits) for objects:{values}\")\n",
        "print(f\"Numer of weights and Number of values are equal:\") \n",
        "len(weights)==len(values)\n",
        "\n",
        "# Solve the Problem.\n",
        "\n",
        "# Solve the Problem.\n",
        "# Crating table to store sub-problems solutions.\n",
        "A = np.zero(len(weights)+1, W+1)\n",
        "\n",
        "j, y = 1\n",
        "for j in range(len(weights)):\n",
        "  for y in range(W):\n",
        "    if weights(j) > y:\n",
        "      A[j+1, y+1] = A[j, y+1]\n",
        "    else:\n",
        "      A[j+1, y+1] = max(A[j, y+1], values[j] + A[j], y-weights[j]+1)\n",
        "\n",
        "best = A[-1, -1]\n",
        "\n",
        "\n",
        "# Now Backtrack to get the items satisfying the constraint and giving best reward.\n",
        "\n",
        "amount = np.zero(len(weights), 1)\n",
        "a = best\n",
        "j = len(weights)\n",
        "y = W\n",
        "while a > 0:\n",
        "  while A(j+1, y+1) == a:\n",
        "    j = j-1\n",
        "  end\n",
        "  j = j + 1 # This item has to be in the knapsack.\n",
        "  #amount(j) = 1\n",
        "  y = y - weights(j)\n",
        "  j = j - 1\n",
        "  a = A(j+1, y+1)\n",
        "end\n",
        "\n",
        "import numpy as np\n",
        "amount = np.reshape(amount, M, N)\n",
        "\n",
        "def is_positive_integer(x):\n",
        "  yn = x > 0 and floor(X) == X\n",
        "\n",
        "\n",
        "\n"
      ],
      "metadata": {
        "id": "r3JyASTn7Z16"
      },
      "execution_count": null,
      "outputs": []
    },
    {
      "cell_type": "markdown",
      "source": [
        "# Converting kanpsack code from  Matlab to Python "
      ],
      "metadata": {
        "id": "bNJ9lCyj0lo5"
      }
    },
    {
      "cell_type": "code",
      "source": [
        "# Knapsack Demonstration\n",
        "# Integer weights of Items\n",
        "import numpy as np\n",
        "N = 12\n",
        "weights = np.random.randint(10,90,(1,12)) # random numpy array of shape (1,12)\n",
        "weights, weights.shape"
      ],
      "metadata": {
        "id": "VhWcNAyQfI8E"
      },
      "execution_count": null,
      "outputs": []
    },
    {
      "cell_type": "code",
      "source": [
        "# Iteger values of the items.\n",
        "values = np.random.randint(10,90,(1,12)) # random numpy array of shape (1,12)\n",
        "values, values.shape"
      ],
      "metadata": {
        "id": "4Xp0JBw2fROz"
      },
      "execution_count": null,
      "outputs": []
    },
    {
      "cell_type": "code",
      "source": [
        "# Import knapsack module to solve the problem\n",
        "# Import knapsack from KNAPSACK\n",
        "#from KNAPSACK import knapsack\n",
        "\n",
        "capacity = 3000\n",
        "#def knapsack(weights, values, capacity):\n",
        "[best, amount] = knapsack(weights, values, capacity)\n",
        "best\n",
        "#items = find(amount)\n",
        "#items = np.nonzero(amount)\n",
        "items = np.argwhere(amount)\n",
        "\n",
        "# Check that the result matches the constraint and the best value.\n",
        "s = sum(weights[items])\n",
        "print(f\"Sum of Weights: {s}\")\n",
        "s1 = sum(values[items])\n",
        "print(f\"Sum of Values: {s1}\")\n",
        "\n",
        "print(f\"Number of objects:{N}\")\n",
        "print(f\"Weights for objects:{weights}\")\n",
        "print(f\"Values(Profits) for objects:{values}\")\n",
        "print(f\"Numer of weights and Number of values are equal:\") \n",
        "len(weights)==len(values)"
      ],
      "metadata": {
        "id": "-uKppSD2d7cp"
      },
      "execution_count": null,
      "outputs": []
    },
    {
      "cell_type": "markdown",
      "source": [
        "# Using Knapsack package in Python"
      ],
      "metadata": {
        "id": "U_xqQtmiztVN"
      }
    },
    {
      "cell_type": "code",
      "source": [
        "# !pip install ortoolpy\n"
      ],
      "metadata": {
        "id": "CKYDlN30z8lO"
      },
      "execution_count": null,
      "outputs": []
    },
    {
      "cell_type": "code",
      "source": [
        "#from ortoolpy import knapsack\n",
        "\n",
        "#import random\n",
        "# create weights list for N items\n",
        "#weight = random.sample(range(1, 1000), N)\n",
        "\n",
        "# create sizes list for N items\n",
        "#size = random.sample(range(1, 100), N)\n",
        "#size\n",
        "\n",
        "#capacity = 3000\n",
        "\n",
        "\n",
        "\n",
        "#knapsack(size, weight, capacity)\n"
      ],
      "metadata": {
        "id": "7QaelEoLxLko"
      },
      "execution_count": null,
      "outputs": []
    }
  ]
}