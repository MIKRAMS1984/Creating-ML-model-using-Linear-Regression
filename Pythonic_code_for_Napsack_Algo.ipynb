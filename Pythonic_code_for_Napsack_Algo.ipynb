{
  "nbformat": 4,
  "nbformat_minor": 0,
  "metadata": {
    "colab": {
      "provenance": [],
      "authorship_tag": "ABX9TyMVhD8hReRpC4BxPV7y7beR",
      "include_colab_link": true
    },
    "kernelspec": {
      "name": "python3",
      "display_name": "Python 3"
    },
    "language_info": {
      "name": "python"
    }
  },
  "cells": [
    {
      "cell_type": "markdown",
      "metadata": {
        "id": "view-in-github",
        "colab_type": "text"
      },
      "source": [
        "<a href=\"https://colab.research.google.com/github/MIKRAMS1984/Creating-ML-model-using-Linear-Regression/blob/main/Pythonic_code_for_Napsack_Algo.ipynb\" target=\"_parent\"><img src=\"https://colab.research.google.com/assets/colab-badge.svg\" alt=\"Open In Colab\"/></a>"
      ]
    },
    {
      "cell_type": "code",
      "execution_count": 1,
      "metadata": {
        "colab": {
          "base_uri": "https://localhost:8080/"
        },
        "id": "8QMjlbDcDQ4v",
        "outputId": "39e47858-a774-4e68-eb49-a60b77270e9c"
      },
      "outputs": [
        {
          "output_type": "stream",
          "name": "stdout",
          "text": [
            "Number of items:11\n",
            "Weight Constraint:50\n",
            "Weights of items:[0, 11, 10, 9, 8, 7, 6, 5, 4, 3, 2, 4, 1]\n",
            " Values of items:[0, 15, 20, 5, 3, 9, 6, 7, 2, 1, 5, 8, 2]\n",
            "Total_profit:72\n",
            "The item number 11 is in knapsack.\n",
            "The item number 10 is in knapsack.\n",
            "The item number 8 is in knapsack.\n",
            "The item number 7 is in knapsack.\n",
            "The item number 6 is in knapsack.\n",
            "The item number 5 is in knapsack.\n",
            "The item number 2 is in knapsack.\n",
            "The item number 1 is in knapsack.\n",
            "Weights of items:[0, 11, 10, 9, 8, 7, 6, 5, 4, 3, 2, 4, 1]\n",
            " Values of items:[0, 15, 20, 5, 3, 9, 6, 7, 2, 1, 5, 8, 2]\n",
            "items_in_knapsack:[[0 1 1 0 0 1 1 1 1 0 1 1 0]]\n",
            "Total_weight in knapsack:49 and Weight_constraint:50\n"
          ]
        }
      ],
      "source": [
        "import numpy as np\n",
        "n = 11 # Number of Items\n",
        "W = 50 # Weight Constraint\n",
        "weights = [0, 11, 10, 9, 8, 7, 6, 5, 4, 3, 2, 4, 1]\n",
        "values  = [0, 15, 20, 5, 3, 9, 6, 7, 2, 1, 5, 8, 2]\n",
        "cost = np.zeros((len(weights)+1, W+1), dtype=int)\n",
        "print(f\"Number of items:{n}\")\n",
        "print(f\"Weight Constraint:{W}\")\n",
        "print(f\"Weights of items:{weights}\")\n",
        "print(f\" Values of items:{values}\")\n",
        "# Function Definition.\n",
        "def knapsack(n, W, wm, vm):\n",
        "  for i in range(1, n+1):\n",
        "    for w in range(1, W+1):\n",
        "      if(wm[i] > w):\n",
        "        cost[i][w] = cost[i-1][w]\n",
        "      else:\n",
        "        if ((vm[i]+cost[i-1][w-wm[i]]) > cost[i-1][w]):\n",
        "          cost[i][w] = vm[i] + cost[i-1][w-wm[i]]\n",
        "        else:\n",
        "          cost[i][w] = cost[i-1][w]\n",
        "  return cost[n][W]\n",
        "items_in_knapsack = np.zeros((len(weights), 1), dtype=int)\n",
        "def items_in_optimal(n, W, wm):\n",
        "  i = n\n",
        "  j = W\n",
        "  Total_weight = 0\n",
        "\n",
        "  while (i > 0 and j > 0):\n",
        "    if(cost[i][j] != cost[i-1][j]):\n",
        "      #print(i)\n",
        "      print(f\"The item number {i} is in knapsack.\")\n",
        "      items_in_knapsack[i] = 1\n",
        "      Total_weight = Total_weight + wm[i]\n",
        "      j = j-wm[i]\n",
        "      i = i-1\n",
        "    else:\n",
        "      i = i-1\n",
        "  return Total_weight\n",
        "p = knapsack(n, W, weights, values)\n",
        "print(f\"Total_profit:{p}\")\n",
        "# Function call for items_in_optimal.\n",
        "Total_weight = items_in_optimal(n, W, weights)\n",
        "print(f\"Weights of items:{weights}\")\n",
        "print(f\" Values of items:{values}\")\n",
        "print(f\"items_in_knapsack:{np.transpose(items_in_knapsack)}\")\n",
        "print(f\"Total_weight in knapsack:{Total_weight} and Weight_constraint:{W}\")\n"
      ]
    }
  ]
}